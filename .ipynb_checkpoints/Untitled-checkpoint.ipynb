{
 "cells": [
  {
   "cell_type": "code",
   "execution_count": 1,
   "metadata": {},
   "outputs": [
    {
     "name": "stdout",
     "output_type": "stream",
     "text": [
      "['alt.atheism', 'comp.graphics', 'comp.os.ms-windows.misc', 'comp.sys.ibm.pc.hardware', 'comp.sys.mac.hardware', 'comp.windows.x', 'misc.forsale', 'rec.autos', 'rec.motorcycles', 'rec.sport.baseball', 'rec.sport.hockey', 'sci.crypt', 'sci.electronics', 'sci.med', 'sci.space', 'soc.religion.christian', 'talk.politics.guns', 'talk.politics.mideast', 'talk.politics.misc', 'talk.religion.misc']\n"
     ]
    }
   ],
   "source": [
    "from sklearn.datasets import fetch_20newsgroups\n",
    "x_train = fetch_20newsgroups(subset='train')\n",
    "print(x_train.target_names)"
   ]
  },
  {
   "cell_type": "code",
   "execution_count": 2,
   "metadata": {},
   "outputs": [
    {
     "name": "stdout",
     "output_type": "stream",
     "text": [
      "(11314,)\n",
      "(11314,)\n"
     ]
    },
    {
     "data": {
      "text/plain": [
       "array([ 7,  4,  4,  1, 14, 16, 13,  3,  2,  4])"
      ]
     },
     "execution_count": 2,
     "metadata": {},
     "output_type": "execute_result"
    }
   ],
   "source": [
    "print(x_train.filenames.shape)\n",
    "y_train = x_train.target\n",
    "print(y_train.shape)\n",
    "y_train[:10]"
   ]
  },
  {
   "cell_type": "code",
   "execution_count": 3,
   "metadata": {},
   "outputs": [
    {
     "data": {
      "text/plain": [
       "(11314, 130107)"
      ]
     },
     "execution_count": 3,
     "metadata": {},
     "output_type": "execute_result"
    }
   ],
   "source": [
    "from sklearn.feature_extraction.text import TfidfVectorizer\n",
    "vectorizer = TfidfVectorizer()\n",
    "vectors = vectorizer.fit_transform(x_train.data)\n",
    "vectors.shape"
   ]
  },
  {
   "cell_type": "code",
   "execution_count": 5,
   "metadata": {},
   "outputs": [
    {
     "data": {
      "text/plain": [
       "0.8290659644474043"
      ]
     },
     "execution_count": 5,
     "metadata": {},
     "output_type": "execute_result"
    }
   ],
   "source": [
    "from sklearn.naive_bayes import MultinomialNB\n",
    "from sklearn import metrics\n",
    "x_test = fetch_20newsgroups(subset='test')\n",
    "y_test = x_test.target\n",
    "vectors_test = vectorizer.transform(x_test.data)\n",
    "MNB = MultinomialNB(alpha=.01)\n",
    "MNB.fit(vectors, y_train)\n",
    "pred = MNB.predict(vectors_test)\n",
    "metrics.f1_score(y_test, pred, average='macro')"
   ]
  },
  {
   "cell_type": "code",
   "execution_count": 6,
   "metadata": {},
   "outputs": [
    {
     "name": "stdout",
     "output_type": "stream",
     "text": [
      "[[249   0   0   4   0   1   0   0   1   1   0   1   0   5   5  28   3   3\n",
      "    1  17]\n",
      " [  0 290  15  14  10  23   6   0   0   3   0   4  12   0   7   2   0   2\n",
      "    0   1]\n",
      " [  1  32 248  52   4  20   5   0   2   1   1   6   3   3   5   4   0   0\n",
      "    4   3]\n",
      " [  0  11  26 293  22   1  11   1   0   1   0   1  21   0   4   0   0   0\n",
      "    0   0]\n",
      " [  0   7  10  14 322   1   8   4   1   2   1   2   9   2   1   0   1   0\n",
      "    0   0]\n",
      " [  0  40  14  11   6 307   3   1   2   0   0   3   2   1   4   0   1   0\n",
      "    0   0]\n",
      " [  0   4   6  26   8   0 306  11   9   1   5   0   9   4   1   0   0   0\n",
      "    0   0]\n",
      " [  0   1   1   5   1   0  10 358   6   1   0   0   6   3   1   0   2   0\n",
      "    1   0]\n",
      " [  0   1   0   1   1   0   2   7 383   0   0   0   3   0   0   0   0   0\n",
      "    0   0]\n",
      " [  0   0   0   0   1   0   3   4   0 373  11   1   0   0   2   0   0   2\n",
      "    0   0]\n",
      " [  0   0   0   0   0   1   1   0   0   4 387   2   0   1   0   2   1   0\n",
      "    0   0]\n",
      " [  1   3   1   2   2   1   3   3   0   0   0 370   1   3   2   0   4   0\n",
      "    0   0]\n",
      " [  1   9   9  23   6   2   7   3   2   0   0  13 302   9   5   0   0   1\n",
      "    1   0]\n",
      " [  2  10   1   3   1   3   3   4   1   2   0   4   8 332   2   7   1   2\n",
      "    8   2]\n",
      " [  1   8   0   3   1   3   1   1   0   0   0   2   3   5 359   2   1   0\n",
      "    4   0]\n",
      " [  3   1   1   1   0   0   0   0   1   1   1   0   0   2   1 378   0   0\n",
      "    2   6]\n",
      " [  0   0   0   1   0   0   1   0   2   1   0   5   1   1   1   0 331   0\n",
      "   14   6]\n",
      " [  5   1   0   0   0   1   0   0   0   1   1   0   0   0   0   2   2 355\n",
      "    7   1]\n",
      " [  4   1   0   0   2   0   1   4   0   0   1   3   0   2   9   2  72   0\n",
      "  199  10]\n",
      " [ 35   1   2   0   0   0   0   0   0   0   0   1   0   2   5  33  15   1\n",
      "    7 149]]\n",
      "              precision    recall  f1-score   support\n",
      "\n",
      "           0       0.82      0.78      0.80       319\n",
      "           1       0.69      0.75      0.72       389\n",
      "           2       0.74      0.63      0.68       394\n",
      "           3       0.65      0.75      0.69       392\n",
      "           4       0.83      0.84      0.83       385\n",
      "           5       0.84      0.78      0.81       395\n",
      "           6       0.82      0.78      0.80       390\n",
      "           7       0.89      0.90      0.90       396\n",
      "           8       0.93      0.96      0.95       398\n",
      "           9       0.95      0.94      0.95       397\n",
      "          10       0.95      0.97      0.96       399\n",
      "          11       0.89      0.93      0.91       396\n",
      "          12       0.79      0.77      0.78       393\n",
      "          13       0.89      0.84      0.86       396\n",
      "          14       0.87      0.91      0.89       394\n",
      "          15       0.82      0.95      0.88       398\n",
      "          16       0.76      0.91      0.83       364\n",
      "          17       0.97      0.94      0.96       376\n",
      "          18       0.80      0.64      0.71       310\n",
      "          19       0.76      0.59      0.67       251\n",
      "\n",
      "    accuracy                           0.84      7532\n",
      "   macro avg       0.83      0.83      0.83      7532\n",
      "weighted avg       0.84      0.84      0.83      7532\n",
      "\n",
      "Accuracy :  0.8352363250132767\n"
     ]
    }
   ],
   "source": [
    "from sklearn.metrics import confusion_matrix, classification_report, accuracy_score\n",
    "print(confusion_matrix(y_test, pred))\n",
    "print(classification_report(y_test, pred))\n",
    "print('Accuracy : ', accuracy_score(y_test, pred))"
   ]
  },
  {
   "cell_type": "code",
   "execution_count": 10,
   "metadata": {},
   "outputs": [],
   "source": [
    "from sklearn.svm import SVC\n",
    "sv = SVC(kernel='linear')"
   ]
  },
  {
   "cell_type": "code",
   "execution_count": null,
   "metadata": {},
   "outputs": [],
   "source": [
    "sv.fit(vectors, y_train)\n",
    "pred = sv.predict(vectors_test)\n",
    "metrics.f1_score(y_test, pred, average='macro')"
   ]
  },
  {
   "cell_type": "code",
   "execution_count": null,
   "metadata": {
    "scrolled": true
   },
   "outputs": [],
   "source": [
    "print(confusion_matrix(y_test, pred))\n",
    "print(classification_report(y_test, pred))\n",
    "print('Accuracy : ', accuracy_score(y_test, pred))"
   ]
  },
  {
   "cell_type": "code",
   "execution_count": null,
   "metadata": {},
   "outputs": [],
   "source": []
  }
 ],
 "metadata": {
  "kernelspec": {
   "display_name": "Python 3",
   "language": "python",
   "name": "python3"
  },
  "language_info": {
   "codemirror_mode": {
    "name": "ipython",
    "version": 3
   },
   "file_extension": ".py",
   "mimetype": "text/x-python",
   "name": "python",
   "nbconvert_exporter": "python",
   "pygments_lexer": "ipython3",
   "version": "3.7.2"
  }
 },
 "nbformat": 4,
 "nbformat_minor": 2
}
